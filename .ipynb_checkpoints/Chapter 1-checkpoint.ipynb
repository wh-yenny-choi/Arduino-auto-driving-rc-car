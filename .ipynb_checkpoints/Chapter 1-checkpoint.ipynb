{
 "cells": [
  {
   "cell_type": "markdown",
   "id": "3c1eb83d-c74d-4b53-a272-5b006578b63f",
   "metadata": {},
   "source": [
    "# Chapter1 아두이노 자율주행 RC카 준비하기\n",
    "1. 자율주행 자동차의 이해\n",
    "2. 전기 자동차의 이해\n",
    "3. 아두이노 RC카 DIY"
   ]
  },
  {
   "cell_type": "code",
   "execution_count": null,
   "id": "2c7674ea-4405-47c9-9643-e9d3ac3d43fc",
   "metadata": {},
   "outputs": [],
   "source": []
  }
 ],
 "metadata": {
  "kernelspec": {
   "display_name": "Python 3",
   "language": "python",
   "name": "python3"
  },
  "language_info": {
   "codemirror_mode": {
    "name": "ipython",
    "version": 3
   },
   "file_extension": ".py",
   "mimetype": "text/x-python",
   "name": "python",
   "nbconvert_exporter": "python",
   "pygments_lexer": "ipython3",
   "version": "3.8.8"
  }
 },
 "nbformat": 4,
 "nbformat_minor": 5
}
